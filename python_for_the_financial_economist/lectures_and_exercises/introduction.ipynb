{
 "cells": [
  {
   "cell_type": "markdown",
   "id": "sustainable-funds",
   "metadata": {},
   "source": [
    "# Introduction to Python for the Financial Economist"
   ]
  },
  {
   "cell_type": "markdown",
   "id": "referenced-draft",
   "metadata": {},
   "source": [
    "## Course objective\n",
    "\n",
    "The aim of this course is to enable students to implement financial models using realistic data. Several topics in financial economics will be covered and the students will at the end of the course be able to independently implement financial models from scratch in Python. This will be highly relevant when writing academic papers (master thesis) and/or working in the financial industry.\n",
    "\n",
    "The students will learn Python by solving a range of different problems in financial economics. This includes implementation of different models from academic research papers.\n",
    "\n",
    "My hope is to help students prepare for the often tedious programming tasks involved when writing their master theses. \n",
    "\n",
    "## Exam \n",
    "\n",
    "The exam will consist of a two week project where students apply the coding skill and financial knowledge learned in the course  to a specific problem. \n",
    "\n",
    "__Format:__ Group take-home assignment. 2 students per group (max 25 pages). Students are allowed to hand-in individually (max 15 pages). \n",
    "\n",
    "__Duration:__ 14 days. \n",
    "\n",
    "__Subject:__ The learning objectives of the course is to _\"use Python and the methods used in the course-exercises to solve problems similar or slightly different from the problems solved in the exercises of the course.\"_\n",
    "\n",
    "The exam may be formulated as a set of specific problems, replication of a scientific paper or a more broad project on a particular topic discussed in the course. "
   ]
  },
  {
   "cell_type": "markdown",
   "id": "ahead-rebound",
   "metadata": {},
   "source": [
    "## Course overview"
   ]
  },
  {
   "cell_type": "markdown",
   "id": "worldwide-moment",
   "metadata": {},
   "source": [
    "### Week 1: Head-on with Python\n",
    "\n",
    "The first week will include\n",
    "\n",
    "* An introduction to the tools used (Pycharm, Jupyter notebooks, Github, etc.) and how to get started\n",
    "* An introduction to Python (DataCamp)\n",
    "* Examples and exercises using the `numpy` package to perform matrix and vector calculations\n",
    "\n"
   ]
  },
  {
   "cell_type": "markdown",
   "id": "informed-genome",
   "metadata": {},
   "source": [
    "### Week 2: Financial data\n",
    "\n",
    "We will focus on relevant data sets used in the course, i.e. how to get datasets directly into our Jupyter notebooks or scripts in Pycharm. \n",
    "\n",
    "Besides this, week 2 will include\n",
    "\n",
    "* An introduction to Matplotlib (DataCamp)\n",
    "* Discussion of how to model financial markets\n",
    "* Examples and exercises\n"
   ]
  },
  {
   "cell_type": "markdown",
   "id": "breeding-camel",
   "metadata": {},
   "source": [
    "### Week 3: Something about distributions\n",
    "\n",
    "We will focus on univariate and multivariate statistics using the subpackage `scipy.stats` of `scipy`. We will cover \n",
    "\n",
    "* Univariate statistics (random variables, moments, etc.)\n",
    "* Multivariate statistics \n",
    "* Revisiting risk measures \n",
    "\n",
    "I have assigned an introduction to seaborn (DataCamp). "
   ]
  },
  {
   "cell_type": "markdown",
   "id": "determined-garage",
   "metadata": {},
   "source": [
    "### Week 4: Optimization\n",
    "\n",
    "We will talk about optimization using the subpackages `scipy.optimize` of `scipy`. We will cover\n",
    "\n",
    "* Basic examples of gradient and non-gradient based optimization algorithms \n",
    "* Look at how to implement constrained, unconstrained and global optimization problems using `scipy.optimize`"
   ]
  },
  {
   "cell_type": "markdown",
   "id": "every-wilderness",
   "metadata": {},
   "source": [
    "### Week 5: Estimation\n",
    "\n",
    "We will talk about estimation. We cover\n",
    "\n",
    "* Basic theory about estimators\n",
    "* \"m-estimators\" including maximum likelihood and non-linear least squares"
   ]
  },
  {
   "cell_type": "markdown",
   "id": "behavioral-racing",
   "metadata": {},
   "source": [
    "### Week X-Y: Term structure of interest rates (work in progress)"
   ]
  },
  {
   "cell_type": "markdown",
   "id": "opened-exhibit",
   "metadata": {},
   "source": [
    "### Week X-Y: Robust portfolio optimization  (work in progress)"
   ]
  },
  {
   "cell_type": "markdown",
   "id": "pressed-effort",
   "metadata": {},
   "source": [
    "### Week X-Y: Financial market volatility  (work in progress)"
   ]
  },
  {
   "cell_type": "markdown",
   "id": "potential-demonstration",
   "metadata": {},
   "source": [
    "# Literature\n",
    "\n",
    "There will not be any required literature. However, relevant literature that has inspired this course includes\n",
    "\n",
    "* [Attilio Meucci, \"Risk and Asset Allocation\"](https://www.amazon.com/Risk-Asset-Allocation-Springer-Finance/dp/3642009646)\n",
    "\n",
    "* [Claus Munk (2013), \"Fixed income modelling\"](https://www.amazon.co.uk/Fixed-Income-Modelling-Claus-Munk/dp/0198716443)\n",
    "\n",
    "* [A. Colin Cameron and Pravin K. Trivedi](https://www.amazon.com/Microeconometrics-Methods-Applications-Colin-Cameron/dp/0521848059)\n",
    "\n",
    "* [Riccardo Rebonato and Alexander Denev, \"Portfolio Management under stress\"](https://www.amazon.com/Portfolio-Management-under-Stress-Bayesian-Net/dp/1107048117)"
   ]
  },
  {
   "cell_type": "markdown",
   "id": "legendary-crystal",
   "metadata": {},
   "source": [
    "## List of symbols, etc. "
   ]
  }
 ],
 "metadata": {
  "kernelspec": {
   "display_name": "python_for_fin_econ",
   "language": "python",
   "name": "python_for_fin_econ"
  },
  "language_info": {
   "codemirror_mode": {
    "name": "ipython",
    "version": 3
   },
   "file_extension": ".py",
   "mimetype": "text/x-python",
   "name": "python",
   "nbconvert_exporter": "python",
   "pygments_lexer": "ipython3",
   "version": "3.8.6"
  }
 },
 "nbformat": 4,
 "nbformat_minor": 5
}
