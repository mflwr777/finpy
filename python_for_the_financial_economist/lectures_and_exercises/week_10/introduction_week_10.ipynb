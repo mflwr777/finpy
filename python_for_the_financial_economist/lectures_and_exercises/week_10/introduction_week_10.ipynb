{
 "cells": [
  {
   "cell_type": "markdown",
   "id": "sustainable-funds",
   "metadata": {},
   "source": [
    "# Week 10: Black-Litterman \n",
    "\n",
    "In this week, we will look at the Black-Litterman approach to portfolio optimization. "
   ]
  },
  {
   "cell_type": "markdown",
   "id": "ahead-rebound",
   "metadata": {},
   "source": [
    "## Lectures and exercises\n",
    "\n",
    "The **lectures** cover\n",
    "\n",
    "* Black-Litterman\n",
    "\n",
    "The **exercises** cover\n",
    "\n",
    "* Implementation of Black-Litterman"
   ]
  }
 ],
 "metadata": {
  "kernelspec": {
   "display_name": "python_for_fin_econ",
   "language": "python",
   "name": "python_for_fin_econ"
  },
  "language_info": {
   "codemirror_mode": {
    "name": "ipython",
    "version": 3
   },
   "file_extension": ".py",
   "mimetype": "text/x-python",
   "name": "python",
   "nbconvert_exporter": "python",
   "pygments_lexer": "ipython3",
   "version": "3.8.6"
  }
 },
 "nbformat": 4,
 "nbformat_minor": 5
}
