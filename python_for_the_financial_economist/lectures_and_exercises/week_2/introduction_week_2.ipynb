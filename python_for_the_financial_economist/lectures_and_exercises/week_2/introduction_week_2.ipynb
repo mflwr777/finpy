{
 "cells": [
  {
   "cell_type": "markdown",
   "id": "sustainable-funds",
   "metadata": {},
   "source": [
    "# Week 2: Financial data"
   ]
  },
  {
   "cell_type": "markdown",
   "id": "domestic-split",
   "metadata": {},
   "source": [
    "For the second week, I have assigned the course [Introduction to Data Visualization with Matplotlib](https://learn.datacamp.com/courses/introduction-to-data-visualization-with-matplotlib) which will introduce plotting functionality in Python. "
   ]
  },
  {
   "cell_type": "markdown",
   "id": "ahead-rebound",
   "metadata": {},
   "source": [
    "## Lectures and exercises\n",
    "\n",
    "The **lectures** will introduce \n",
    "\n",
    "* How to download data directly into Python using different APIs\n",
    "* How to model financial markets\n",
    "\n",
    "The **exercises** will cover\n",
    "\n",
    "* Consequence of misspecifying the asset allocation problem\n",
    "* Consequence of mean-reversion for the square-root rule\n",
    "* Importing and plotting nominal yield data"
   ]
  }
 ],
 "metadata": {
  "kernelspec": {
   "display_name": "python_for_fin_econ",
   "language": "python",
   "name": "python_for_fin_econ"
  },
  "language_info": {
   "codemirror_mode": {
    "name": "ipython",
    "version": 3
   },
   "file_extension": ".py",
   "mimetype": "text/x-python",
   "name": "python",
   "nbconvert_exporter": "python",
   "pygments_lexer": "ipython3",
   "version": "3.8.6"
  }
 },
 "nbformat": 4,
 "nbformat_minor": 5
}
