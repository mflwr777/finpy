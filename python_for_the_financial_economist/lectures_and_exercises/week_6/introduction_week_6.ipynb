{
 "cells": [
  {
   "cell_type": "markdown",
   "id": "sustainable-funds",
   "metadata": {},
   "source": [
    "# Week 6: Estimation"
   ]
  },
  {
   "cell_type": "markdown",
   "id": "ahead-rebound",
   "metadata": {},
   "source": [
    "## Lectures and exercises\n",
    "\n",
    "The **lectures** will introduce concepts related to estimation. \n",
    "\n",
    "The **exercises** will  will look at \n",
    "\n",
    "* Recession forecasting\n",
    "* Hypothesis testing \n",
    "* Shrinkage estimator"
   ]
  }
 ],
 "metadata": {
  "kernelspec": {
   "display_name": "python_for_fin_econ",
   "language": "python",
   "name": "python_for_fin_econ"
  },
  "language_info": {
   "codemirror_mode": {
    "name": "ipython",
    "version": 3
   },
   "file_extension": ".py",
   "mimetype": "text/x-python",
   "name": "python",
   "nbconvert_exporter": "python",
   "pygments_lexer": "ipython3",
   "version": "3.8.6"
  }
 },
 "nbformat": 4,
 "nbformat_minor": 5
}
