{
 "cells": [
  {
   "cell_type": "markdown",
   "id": "sustainable-funds",
   "metadata": {},
   "source": [
    "# Week 5: Optimization"
   ]
  },
  {
   "cell_type": "markdown",
   "id": "ahead-rebound",
   "metadata": {},
   "source": [
    "## Lectures and exercises\n",
    "\n",
    "The **lectures** will introduce concepts related numerical optimization and show how to use the optimizers in `scipy.optimize`. \n",
    "\n",
    "\n",
    "The **exercises** will ask the students to solve different optimization problems: \n",
    "\n",
    "* Second order conditions\n",
    "* Minimizing distance\n",
    "* Calibration of the Nelson-Siegel-Svensson curve\n",
    "* Portfolio optimization with constraints\n",
    "* Minimizing CVaR (and VaR)"
   ]
  }
 ],
 "metadata": {
  "kernelspec": {
   "display_name": "python_for_fin_econ",
   "language": "python",
   "name": "python_for_fin_econ"
  },
  "language_info": {
   "codemirror_mode": {
    "name": "ipython",
    "version": 3
   },
   "file_extension": ".py",
   "mimetype": "text/x-python",
   "name": "python",
   "nbconvert_exporter": "python",
   "pygments_lexer": "ipython3",
   "version": "3.8.6"
  }
 },
 "nbformat": 4,
 "nbformat_minor": 5
}
