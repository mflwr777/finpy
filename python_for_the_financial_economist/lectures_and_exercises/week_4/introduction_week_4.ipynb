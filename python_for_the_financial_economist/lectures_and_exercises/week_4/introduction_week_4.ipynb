{
 "cells": [
  {
   "cell_type": "markdown",
   "id": "sustainable-funds",
   "metadata": {},
   "source": [
    "# Week 4: Something about distributions"
   ]
  },
  {
   "cell_type": "markdown",
   "id": "domestic-split",
   "metadata": {},
   "source": [
    "## DataCamp\n",
    "\n",
    "During the third / fourth week, I have assigned the course [Introduction to Data Visualization with Seaborn](https://learn.datacamp.com/courses/introduction-to-data-visualization-with-seaborn) which will introduce the seaborn package. \n"
   ]
  },
  {
   "cell_type": "markdown",
   "id": "ahead-rebound",
   "metadata": {},
   "source": [
    "## Lectures and exercises\n",
    "\n",
    "The **lectures** will introduce (recap) concepts related to\n",
    "\n",
    "* Univariate statistics\n",
    "* Multivariate statistics\n",
    "* Revisiting risk measures such that we can define VaR, CVaR, etc. \n",
    "\n",
    "The **exercises** will cover\n",
    "\n",
    "* VaR and CVaR using historical simulation\n",
    "* Maximum drawdown\n",
    "* The Student's t distribution\n",
    "* The empirical distribution function"
   ]
  }
 ],
 "metadata": {
  "kernelspec": {
   "display_name": "python_for_fin_econ",
   "language": "python",
   "name": "python_for_fin_econ"
  },
  "language_info": {
   "codemirror_mode": {
    "name": "ipython",
    "version": 3
   },
   "file_extension": ".py",
   "mimetype": "text/x-python",
   "name": "python",
   "nbconvert_exporter": "python",
   "pygments_lexer": "ipython3",
   "version": "3.8.6"
  }
 },
 "nbformat": 4,
 "nbformat_minor": 5
}
